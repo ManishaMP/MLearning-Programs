{
 "cells": [
  {
   "cell_type": "code",
   "execution_count": 5,
   "metadata": {},
   "outputs": [
    {
     "name": "stdout",
     "output_type": "stream",
     "text": [
      "The number 56 is even number.\n"
     ]
    }
   ],
   "source": [
    "1. Write a program that uses if statements to determine if a number is even or odd.\n",
    "\n",
    "\n",
    "def check_even_odd(number):\n",
    "    if number % 2 == 0:\n",
    "        return f\"The number {number} is even number.\"\n",
    "    else:\n",
    "        return f\"The number {number} is odd number.\"\n",
    "\n",
    "number = int(input(\"Enter a number: \"))\n",
    "result = check_even_odd(number)\n",
    "print(result)"
   ]
  },
  {
   "cell_type": "code",
   "execution_count": 7,
   "metadata": {},
   "outputs": [
    {
     "name": "stdout",
     "output_type": "stream",
     "text": [
      "Hello, Anna!, how r u\n",
      "Hello, sangeetha!, how r u\n",
      "Hello, indoo!, how r u\n",
      "Hello, manisha!, how r u\n",
      "Hello, manisha!, how r u\n"
     ]
    }
   ],
   "source": [
    "2. Use a for loop to iterate over a list of names and print greetings for each person.\n",
    "\n",
    "\n",
    "Names = [\"Anna\", \"sangeetha\", \"indoo\", \"manisha\", \"manisha\"]        # List of names\n",
    "\n",
    "for name in Names:     # Iterate over the list of names and print a greeting for each person\n",
    "\n",
    "    print(f\"Hello, {name}!, how r u\")"
   ]
  },
  {
   "cell_type": "code",
   "execution_count": null,
   "metadata": {},
   "outputs": [],
   "source": []
  },
  {
   "cell_type": "code",
   "execution_count": 28,
   "metadata": {},
   "outputs": [
    {
     "name": "stdout",
     "output_type": "stream",
     "text": [
      "Products with low stock:\n"
     ]
    }
   ],
   "source": [
    "products = [\n",
    "    {\"name\": \"T-Shirt\", \"price\": 15.99, \"quantity\": 100},\n",
    "    {\"name\": \"Coffee Mug\", \"price\": 7.50, \"quantity\": 50},\n",
    "    {\"name\": \"Notebook\", \"price\": 8.99, \"quantity\": 75},\n",
    "]\n",
    "print(\"Products with low stock:\")\n",
    "for product in products:\n",
    "    if product[\"quantity\"] < 20:\n",
    "     print(product[\"name\"])\n",
    "    "
   ]
  },
  {
   "cell_type": "code",
   "execution_count": 24,
   "metadata": {},
   "outputs": [
    {
     "name": "stdout",
     "output_type": "stream",
     "text": [
      "Product Names: ['T-Shirt', 'Coffee Mug', 'Notebook']\n",
      "Formatted Prices: ['$15.99', '$7.50', '$8.99']\n"
     ]
    }
   ],
   "source": [
    "products = [\n",
    "    {\"name\": \"T-Shirt\", \"price\": 15.99, \"quantity\": 100},\n",
    "    {\"name\": \"Coffee Mug\", \"price\": 7.50, \"quantity\": 50},\n",
    "    {\"name\": \"Notebook\", \"price\": 8.99, \"quantity\": 75},\n",
    "]\n",
    "\n",
    "product_names = [product[\"name\"] for product in products]  # Extract product names using list comprehension\n",
    "\n",
    "\n",
    "formatted_prices = [f\"${product['price']:.2f}\" for product in products]   # Format prices with two decimal places\n",
    "\n",
    "\n",
    "print(\"Product Names:\", product_names)\n",
    "print(\"Formatted Prices:\", formatted_prices)"
   ]
  },
  {
   "cell_type": "code",
   "execution_count": 29,
   "metadata": {},
   "outputs": [
    {
     "name": "stdout",
     "output_type": "stream",
     "text": [
      "Address (Using + Operator):\n",
      "1234 Preston Road\n",
      "Frisco\n",
      "USA\n",
      "\n",
      "Address (Using f-string):\n",
      "1234 Preston Road\n",
      "Frisco\n",
      "USA\n"
     ]
    }
   ],
   "source": [
    "Concatenation:\n",
    "Concatenation involves using the + operator to join multiple strings together. It's a straightforward approach but can become cumbersome when dealing with multiple variables or formatting requirements.\n",
    "example:\n",
    "name = \"manisha\"\n",
    "age = 27\n",
    "# Concatenation\n",
    "message = \"My name is \" + name + \" and I am \" + str(age) + \" years old.\"\n",
    "print(message)\n",
    "\n",
    "F-strings (Formatted String Literals):\n",
    "F-strings, introduced in Python 3.6, provide a more concise and readable way to format strings. They allow you to embed expressions directly inside the string, making it easier to include variables and perform formatting.\n",
    "example:\n",
    "name = \"manisha\"\n",
    "age = 27\n",
    " # F-string\n",
    "message = f\"My name is {name} and I am {age} years old.\"\n",
    "print(message)\n",
    "\n",
    "\n",
    "\n",
    "street = \"1234 Preston Road\"\n",
    "city = \"Frisco\"\n",
    "country = \"USA\"\n",
    "address_concatenated = street + '\\n' + city + '\\n' + country      # Create address variable using + operator\n",
    "address_fstring = f\"{street}\\n{city}\\n{country}\"     # Create address variable using f-string\n",
    "\n",
    "print(\"Address (Using + Operator):\\n\" + address_concatenated) ## Print the address with each component on a separate line\n",
    "print(\"\\nAddress (Using f-string):\\n\" + address_fstring)      ## Print the address with each component on a separate line"
   ]
  },
  {
   "cell_type": "code",
   "execution_count": 30,
   "metadata": {},
   "outputs": [
    {
     "name": "stdout",
     "output_type": "stream",
     "text": [
      "revolves\n",
      "sun\n"
     ]
    }
   ],
   "source": [
    "statement = \"Earth revolves around the sun\"\n",
    "\n",
    "# Print \"revolves\" using slice operator\n",
    "print(statement[6:14])\n",
    "# Print \"sun\" using negative index\n",
    "print(statement[-3:])"
   ]
  },
  {
   "cell_type": "code",
   "execution_count": 32,
   "metadata": {},
   "outputs": [
    {
     "name": "stdout",
     "output_type": "stream",
     "text": [
      "I eat 2 veggies and 1 fruit daily.\n"
     ]
    }
   ],
   "source": [
    "fruits_in_a_day = 1     # Variables to store the number of fruits and vegetables eaten in a day\n",
    "vegetables_in_a_day = 2\n",
    "\n",
    "print(f\"I eat {vegetables_in_a_day} veggies and {fruits_in_a_day} fruit daily.\") # Print the message using f-string\n"
   ]
  },
  {
   "cell_type": "code",
   "execution_count": 33,
   "metadata": {},
   "outputs": [
    {
     "name": "stdout",
     "output_type": "stream",
     "text": [
      "maine 200 banana khaye\n",
      "maine 10 samosa khaye\n"
     ]
    }
   ],
   "source": [
    "s = 'maine 200 banana khaye'\n",
    "print(s)\n",
    "corrected_s = s.replace('200 banana', '10 samosa')  #s.replace is used to replace string"
   ]
  },
  {
   "cell_type": "code",
   "execution_count": null,
   "metadata": {},
   "outputs": [],
   "source": []
  }
 ],
 "metadata": {
  "kernelspec": {
   "display_name": "Python 3",
   "language": "python",
   "name": "python3"
  },
  "language_info": {
   "codemirror_mode": {
    "name": "ipython",
    "version": 3
   },
   "file_extension": ".py",
   "mimetype": "text/x-python",
   "name": "python",
   "nbconvert_exporter": "python",
   "pygments_lexer": "ipython3",
   "version": "3.7.4"
  }
 },
 "nbformat": 4,
 "nbformat_minor": 2
}
