{
 "cells": [
  {
   "cell_type": "code",
   "execution_count": null,
   "metadata": {},
   "outputs": [],
   "source": [
    "1. Create a sample class named Employee with two attributes id and name employee : id name object initializes id and name dynamically for every Employee object created.\n",
    "\n",
    " emp = Employee(1, \"coder\")\n",
    "2.Use del property to first delete id attribute and then the entire object\n",
    "\n",
    "3. When would you use a static method instead of a regular method?\n",
    "\n",
    "4. you defined a class attribute (color) for the Car class. Why can't you directly change the color of a specific car object (e.g., car1.color = \"blue\")? How would you achieve this?\n",
    "\n",
    "5. Write a short Python program that defines a class Book with attributes like title, author, and price. Include a method get_book_info that returns a formatted string with this information. Create a Book object and call the method to display the book information.\n",
    "\n",
    "6. When would you choose to use a function instead of a method in your Python code? Provide an example to illustrate the difference.\n",
    "\n",
    "7. Can I use too many static variables in a class?"
   ]
  },
  {
   "cell_type": "code",
   "execution_count": 5,
   "metadata": {},
   "outputs": [
    {
     "name": "stdout",
     "output_type": "stream",
     "text": [
      "Employee ID: 1, Name: coder\n",
      "Employee ID: 2, Name: manager\n",
      "Employee ID: 3, Name: tester\n"
     ]
    }
   ],
   "source": [
    "class Employee:\n",
    "    def __init__(self, id, name):\n",
    "        self.id = id\n",
    "        self.name = name\n",
    "\n",
    "emp = Employee(1, \"coder\")\n",
    "emp1 = Employee(2, \"manager\")\n",
    "emp2 = Employee(3, \"tester\")\n",
    "\n",
    "print(f\"Employee ID: {emp.id}, Name: {emp.name}\")\n",
    "print(f\"Employee ID: {emp1.id}, Name: {emp1.name}\")\n",
    "print(f\"Employee ID: {emp2.id}, Name: {emp2.name}\")\n",
    "\n"
   ]
  },
  {
   "cell_type": "code",
   "execution_count": 23,
   "metadata": {},
   "outputs": [
    {
     "name": "stdout",
     "output_type": "stream",
     "text": [
      "Before deletion: Employee ID: 1, Name: coder\n",
      "The 'id' attribute has been deleted.\n",
      "The 'emp' object has been deleted.\n"
     ]
    }
   ],
   "source": [
    "class Employee:\n",
    "    def __init__(self, id, name):\n",
    "        self.id = id\n",
    "        self.name = name\n",
    "emp1 = Employee(1, \"coder\")\n",
    "print(f\"Before deletion: Employee ID: {emp1.id}, Name: {emp1.name}\")\n",
    "del emp1.id         # Deleting the id attribute\n",
    "print(\"The 'id' attribute has been deleted.\")\n",
    "del emp1            # Deleting the entire emp object\n",
    "print(\"The 'emp' object has been deleted.\")\n",
    "\n"
   ]
  },
  {
   "cell_type": "code",
   "execution_count": 25,
   "metadata": {},
   "outputs": [
    {
     "name": "stdout",
     "output_type": "stream",
     "text": [
      "8\n",
      "2\n"
     ]
    }
   ],
   "source": [
    " static methods are used when you need a method that doesn't require access to the instance (self) or the class (cls). Here are some scenarios where using a static method is appropriate:\n",
    "\n",
    "\n",
    "Utility Functions: When you have a utility function that performs a task in isolation and doesn't need to interact with instance attributes or other class methods.\n",
    "\n",
    "\n",
    "Namespace Organization: To logically group functions that belong to a class but don't need to modify the state of the class or instances. This keeps the code organized and makes it easier to maintain.\n",
    "\n",
    "\n",
    "Code Clarity: When the function's behavior is related to the class conceptually, but it doesn't need to access or modify the class or instance state. Using a static method in this case makes it clear that the method operates independently of instance and class state.\n",
    "\n",
    "Here’s an example to illustrate when to use a static method:\n",
    "\n",
    "class Maths:\n",
    "    def add(a, b):           #staticmethod\n",
    "      return a + b\n",
    "    def subtract(a, b):       ##staticmethod\n",
    "       return a - b\n",
    "\n",
    "result1 = Maths.add(5, 3)  # 8\n",
    "result2 = Maths.subtract(5, 3)  # 2\n",
    "\n",
    "print(result1)\n",
    "print(result2)\n"
   ]
  },
  {
   "cell_type": "code",
   "execution_count": null,
   "metadata": {},
   "outputs": [],
   "source": []
  },
  {
   "cell_type": "code",
   "execution_count": 30,
   "metadata": {},
   "outputs": [
    {
     "name": "stdout",
     "output_type": "stream",
     "text": [
      "Title: 2024, Author: ABCDEFG, Price: $15.99\n",
      "Title: 2023, Author: ABCD, Price: $15.00\n"
     ]
    }
   ],
   "source": [
    "class Book:\n",
    "    def __init__(self, title, author, price):\n",
    "        self.title = title\n",
    "        self.author = author\n",
    "        self.price = price\n",
    "\n",
    "    def get_book_info(self):\n",
    "        return (f\"Title: {self.title}, Author: {self.author}, Price: ${self.price:.2f}\")\n",
    "\n",
    "book = Book(\"2024\", \"ABCDEFG\", 15.99)\n",
    "book2 = Book(\"2023\", \"ABCD\", 15)\n",
    "print(book.get_book_info())\n",
    "print(book2.get_book_info())"
   ]
  },
  {
   "cell_type": "code",
   "execution_count": 32,
   "metadata": {},
   "outputs": [
    {
     "name": "stdout",
     "output_type": "stream",
     "text": [
      "Area: 78.53975\n"
     ]
    }
   ],
   "source": [
    "\n",
    "In Python, you would choose to use a function instead of a method when the operation you need to perform does not naturally belong to a specific class or when you want to perform a task that doesn't require access to an instance's attributes or methods.\n",
    "\n",
    "When to Use a Function:\n",
    "a) General-purpose operations: If the operation is a standalone task that doesn't logically fit within a class.\n",
    "b) Utility functions: When you have a utility function that can be used across different parts of your program without requiring any context from a class instance.\n",
    "c) Simpler code structure: For simple tasks that don't benefit from the overhead of object-oriented design.\n",
    "When to Use a Method:\n",
    "a) Object-specific operations: If the operation logically pertains to a class and requires access to the instance's attributes or other methods.\n",
    "b) Encapsulation: When you want to encapsulate the functionality within the class to maintain clean and modular code.\n",
    "\n",
    "Example to Illustrate the Difference\n",
    "Using a Function\n",
    "\n",
    "def calculate_area(radius):\n",
    "    return 3.14159 * radius * radius\n",
    "radius = 5\n",
    "area = calculate_area(radius)\n",
    "print(f\"Area: {area}\")\n",
    "\n",
    "In this example, calculate_area is a standalone function that calculates the area of a circle given its radius. This function doesn't belong to any class because it performs a general-purpose operation.\n",
    "\n",
    "\n",
    "Using a Method\n",
    "\n",
    "class Circle:\n",
    "    def __init__(self, radius):\n",
    "        self.radius = radius\n",
    "\n",
    "    def calculate_area(self):\n",
    "        return 3.14159 * self.radius * self.radius\n",
    "\n",
    "circle = Circle(5)\n",
    "area = circle.calculate_area()\n",
    "print(f\"Area: {area}\")\n",
    "\n",
    "In this example, calculate_area is a method of the Circle class. This method calculates the area of the circle using the instance's radius attribute. Here, the calculation logically belongs to the Circle class, as it is specific to circles.\n",
    "\n",
    "\n",
    "key Points:\n",
    "-Use a function for general-purpose tasks and operations that do not require access to an instance's state.\n",
    "-Use a method for operations that are specific to a class and require access to the instance's attributes or methods.\n",
    "-Choosing between a function and a method depends on the context and how closely the operation is tied to a particular class or object.\n",
    "\n",
    "\n",
    "\n",
    "\n",
    "\n"
   ]
  },
  {
   "cell_type": "code",
   "execution_count": null,
   "metadata": {},
   "outputs": [],
   "source": [
    "Using too many static (class) variables in a class can lead to several issues and is generally not recommended. Here are some considerations and potential problems:\n",
    "\n",
    "Considerations and Potential Problems\n",
    "1. Global State Problem:\n",
    "Static variables are shared among all instances of a class. Overusing them can lead to unexpected behaviors, especially in a multi-threaded environment where multiple threads might simultaneously access or modify these variables.\n",
    "\n",
    "2. Tight Coupling:\n",
    "Excessive use of static variables can lead to tight coupling between different parts of your code, making it harder to maintain and test. Changes in the static variables can have wide-reaching effects.\n",
    "\n",
    "3. Encapsulation Violation:\n",
    "Static variables can be accessed from anywhere in your code. This can violate the principles of encapsulation and data hiding, making it difficult to control how these variables are used and modified.\n",
    "\n",
    "4. Scalability Issues:\n",
    "If your application scales and you need to manage multiple instances of a class with different states, relying on static variables can be problematic because they don't support instance-specific data.\n",
    "\n",
    "5. Memory Management:\n",
    "Static variables persist for the lifetime of the program, which can lead to increased memory usage if not managed properly.\n",
    "\n",
    "conclusion \n",
    "while static variables can be useful, they should be used judiciously. Overusing them can lead to maintainability issues, increased coupling, and unexpected behaviors. It's generally better to use instance variables and design patterns that support scalable and maintainable code."
   ]
  }
 ],
 "metadata": {
  "kernelspec": {
   "display_name": "Python 3",
   "language": "python",
   "name": "python3"
  },
  "language_info": {
   "codemirror_mode": {
    "name": "ipython",
    "version": 3
   },
   "file_extension": ".py",
   "mimetype": "text/x-python",
   "name": "python",
   "nbconvert_exporter": "python",
   "pygments_lexer": "ipython3",
   "version": "3.7.4"
  }
 },
 "nbformat": 4,
 "nbformat_minor": 2
}
