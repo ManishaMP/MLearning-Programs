{
 "cells": [
  {
   "cell_type": "code",
   "execution_count": 29,
   "metadata": {},
   "outputs": [
    {
     "name": "stdout",
     "output_type": "stream",
     "text": [
      "[1, 2]\n",
      "[]\n",
      "[]\n"
     ]
    }
   ],
   "source": [
    "def two_sum(nums, target):\n",
    "    # Dictionary to store the complement and its index\n",
    "    seen = {}\n",
    "    \n",
    "    # Iterate through the list of numbers\n",
    "    for index, num in enumerate(nums):\n",
    "        complement = target - num\n",
    "        \n",
    "        # Check if the complement is in the dictionary\n",
    "        if complement in seen:\n",
    "            # If found, return the indices of the complement and the current number\n",
    "            return [seen[complement], index]\n",
    "        \n",
    "        # If not found, add the current number and its index to the dictionary\n",
    "        seen[num] = index\n",
    "    \n",
    "    # If no solution is found, return an empty list or None\n",
    "    return []\n",
    "\n",
    "# Example:\n",
    "nums = [1, 2, 3, 4 ]\n",
    "target = 5\n",
    "print(two_sum(nums, target))\n",
    "\n",
    "nums = [1, 2, 3, 4 ]\n",
    "target = 10\n",
    "print(two_sum(nums, target))\n",
    "\n",
    "nums = [1, 2, 3, 4 ]\n",
    "target = 2\n",
    "print(two_sum(nums, target))\n",
    "\n",
    "\n",
    "\n",
    "\n"
   ]
  },
  {
   "cell_type": "code",
   "execution_count": 17,
   "metadata": {},
   "outputs": [
    {
     "name": "stdout",
     "output_type": "stream",
     "text": [
      "4\n",
      "[1, 2, 3, 4]\n"
     ]
    }
   ],
   "source": [
    "def remove_duplicates(nums):\n",
    "    if not nums:\n",
    "        return 0\n",
    "    \n",
    "    # Initialize the slow pointer\n",
    "    slow = 0\n",
    "    \n",
    "    # Iterate through the array with the fast pointer\n",
    "    for fast in range(1, len(nums)):\n",
    "        # If the current element is different from the element at the slow pointer\n",
    "        if nums[fast] != nums[slow]:\n",
    "            slow += 1\n",
    "            nums[slow] = nums[fast]\n",
    "    \n",
    "    # Return the length of the array without duplicates\n",
    "    return slow + 1\n",
    "\n",
    "# Example:\n",
    "nums = [1, 1, 1, 2, 2, 3, 3, 4]\n",
    "new_length = remove_duplicates(nums)\n",
    "print(new_length)   \n",
    "print(nums[:new_length])  "
   ]
  },
  {
   "cell_type": "code",
   "execution_count": 18,
   "metadata": {},
   "outputs": [
    {
     "name": "stdout",
     "output_type": "stream",
     "text": [
      "[1]\n",
      "[1, 1]\n",
      "[1, 2, 1]\n",
      "[1, 3, 3, 1]\n",
      "[1, 4, 6, 4, 1]\n",
      "[1, 5, 10, 10, 5, 1]\n",
      "[1, 6, 15, 20, 15, 6, 1]\n"
     ]
    }
   ],
   "source": [
    "def generate_pascals_triangle(numRows):\n",
    "    if numRows <= 0:\n",
    "        return []\n",
    "\n",
    "    # Initialize the triangle with the first row\n",
    "    triangle = [[1]]\n",
    "\n",
    "    # Generate each row of Pascal's triangle\n",
    "    for row in range(1, numRows):\n",
    "        # Start the row with a 1\n",
    "        new_row = [1]\n",
    "        \n",
    "        # Get the previous row\n",
    "        prev_row = triangle[row - 1]\n",
    "        \n",
    "        # Calculate the values in the middle of the row\n",
    "        for col in range(1, row):\n",
    "            new_row.append(prev_row[col - 1] + prev_row[col])\n",
    "        \n",
    "        # End the row with a 1\n",
    "        new_row.append(1)\n",
    "        \n",
    "        # Append the new row to the triangle\n",
    "        triangle.append(new_row)\n",
    "    \n",
    "    return triangle\n",
    "\n",
    "# Example:\n",
    "numRows = 7\n",
    "pascals_triangle = generate_pascals_triangle(numRows)\n",
    "for row in pascals_triangle:\n",
    "    print(row)"
   ]
  },
  {
   "cell_type": "code",
   "execution_count": 19,
   "metadata": {},
   "outputs": [
    {
     "name": "stdout",
     "output_type": "stream",
     "text": [
      "(24, 12, 8, 6)\n"
     ]
    }
   ],
   "source": [
    "def product_except_self(nums):\n",
    "    n = len(nums)\n",
    "    if n == 0:\n",
    "        return []\n",
    "\n",
    "    # Initialize the result array with 1s\n",
    "    result = [1] * n\n",
    "\n",
    "    # Calculate the left products\n",
    "    left_product = 1\n",
    "    for i in range(n):\n",
    "        result[i] = left_product\n",
    "        left_product *= nums[i]\n",
    "\n",
    "    # Calculate the right products and multiply with the left products\n",
    "    right_product = 1\n",
    "    for i in range(n - 1, -1, -1):\n",
    "        result[i] *= right_product\n",
    "        right_product *= nums[i]\n",
    "\n",
    "    # Convert the result list to a tuple if needed\n",
    "    return tuple(result)\n",
    "\n",
    "# Example:\n",
    "nums = [1, 2, 3, 4]\n",
    "print(product_except_self(nums))"
   ]
  },
  {
   "cell_type": "code",
   "execution_count": 32,
   "metadata": {},
   "outputs": [
    {
     "name": "stdout",
     "output_type": "stream",
     "text": [
      "True\n",
      "False\n"
     ]
    }
   ],
   "source": [
    "def contains_duplicate(nums):\n",
    "    seen = set()  # Initialize an empty set\n",
    "    \n",
    "    for num in nums:\n",
    "        if num in seen:\n",
    "            return True  # Duplicate found\n",
    "        seen.add(num)  # Add the number to the set\n",
    "    \n",
    "    return False  # No duplicates found\n",
    "\n",
    "# Examples:\n",
    "nums = [11, 22, 22, 33, 45]\n",
    "print(contains_duplicate(nums))  \n",
    "\n",
    "nums = [1, 2, 3, 4]\n",
    "print(contains_duplicate(nums))  \n",
    "\n",
    "\n"
   ]
  },
  {
   "cell_type": "code",
   "execution_count": 27,
   "metadata": {},
   "outputs": [
    {
     "name": "stdout",
     "output_type": "stream",
     "text": [
      "[2, 3]\n",
      "[9, 4]\n",
      "[1, 9]\n"
     ]
    }
   ],
   "source": [
    "def intersection(nums1, nums2):\n",
    "    # Convert the first array to a set\n",
    "    set1 = set(nums1)\n",
    "    \n",
    "    # Initialize a set to store the intersection result\n",
    "    result_set = set()\n",
    "    \n",
    "    # Iterate through the second array\n",
    "    for num in nums2:\n",
    "        # If the element is in the set from nums1, add to result set\n",
    "        if num in set1:\n",
    "            result_set.add(num)\n",
    "    \n",
    "    # Convert the result set to a list and return\n",
    "    return list(result_set)\n",
    "\n",
    "# Example:\n",
    "nums1 = [1, 2, 2, 1, 3, 3]\n",
    "nums2 = [2, 2, 3, 3]\n",
    "print(intersection(nums1, nums2))  \n",
    "\n",
    "nums1 = [4, 9, 5]\n",
    "nums2 = [9, 4, 9, 8, 4]\n",
    "print(intersection(nums1, nums2)) \n",
    "\n",
    "nums1 = [9, 1, 3, 5]\n",
    "nums2 = [1, 9, 18, 27]\n",
    "print(intersection(nums1, nums2)) "
   ]
  },
  {
   "cell_type": "code",
   "execution_count": 31,
   "metadata": {},
   "outputs": [
    {
     "name": "stdout",
     "output_type": "stream",
     "text": [
      "3\n",
      "1\n",
      "3\n"
     ]
    }
   ],
   "source": [
    "def length_of_longest_substring(s):\n",
    "    # Dictionary to store the last seen index of each character\n",
    "    last_seen = {}\n",
    "    max_length = 0\n",
    "    start = 0\n",
    "    \n",
    "    for i, char in enumerate(s):\n",
    "        if char in last_seen and last_seen[char] >= start:\n",
    "            start = last_seen[char] + 1\n",
    "        else:\n",
    "            max_length = max(max_length, i - start + 1)\n",
    "        last_seen[char] = i\n",
    "    \n",
    "    return max_length\n",
    "# Examples:\n",
    "s = \"abcabcbb\"\n",
    "print(length_of_longest_substring(s))  # here substring is abc so length is 3\n",
    "\n",
    "s = \"bbbbb\"\n",
    "print(length_of_longest_substring(s))  # here substring is b so length is 1\n",
    "\n",
    "s = \"pwwkew\"\n",
    "print(length_of_longest_substring(s))  # here substring is wke so length is 3\n"
   ]
  },
  {
   "cell_type": "code",
   "execution_count": null,
   "metadata": {},
   "outputs": [],
   "source": []
  }
 ],
 "metadata": {
  "kernelspec": {
   "display_name": "Python 3",
   "language": "python",
   "name": "python3"
  },
  "language_info": {
   "codemirror_mode": {
    "name": "ipython",
    "version": 3
   },
   "file_extension": ".py",
   "mimetype": "text/x-python",
   "name": "python",
   "nbconvert_exporter": "python",
   "pygments_lexer": "ipython3",
   "version": "3.7.4"
  }
 },
 "nbformat": 4,
 "nbformat_minor": 2
}
