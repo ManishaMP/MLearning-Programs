{
 "cells": [
  {
   "cell_type": "code",
   "execution_count": 7,
   "metadata": {},
   "outputs": [
    {
     "name": "stdout",
     "output_type": "stream",
     "text": [
      "Recommended Books:\n",
      "QRST by Nithya (Classics)\n",
      "UVWX by Anna (Dystopian)\n",
      "The Two Towers by J.R.R. Tolkien (Fantasy)\n",
      "IJKL by Sangeetha (Fantasy)\n",
      "Harry Potter and the Sorcerer's Stone by J.K. Rowling (Fantasy)\n"
     ]
    }
   ],
   "source": [
    "\n",
    "class Book:\n",
    "    def __init__(self, book_id, title, genre, author):\n",
    "        self.book_id = book_id\n",
    "        self.title = title\n",
    "        self.genre = genre\n",
    "        self.author = author\n",
    "\n",
    "class User:\n",
    "    def __init__(self, user_id, name):\n",
    "        self.user_id = user_id\n",
    "        self.name = name\n",
    "        self.history = []\n",
    "\n",
    "    def add_to_history(self, book):\n",
    "        self.history.append(book)\n",
    "\n",
    "class RecommendationSystem:\n",
    "    def __init__(self, books):\n",
    "        self.books = books\n",
    "\n",
    "    def recommend_books(self, user):\n",
    "        recommended_books = []\n",
    "        user_genres = {book.genre for book in user.history}\n",
    "        user_authors = {book.author for book in user.history}\n",
    "\n",
    "        for book in self.books:\n",
    "            if (book.genre in user_genres or book.author in user_authors) and book not in user.history:\n",
    "                recommended_books.append(book)\n",
    "\n",
    "        if len(recommended_books) < 5:\n",
    "            additional_recommendations = random.sample([book for book in self.books if book not in recommended_books and book not in user.history], 5 - len(recommended_books))\n",
    "            recommended_books.extend(additional_recommendations)\n",
    "\n",
    "        return recommended_books\n",
    "\n",
    "# Sample data\n",
    "books = [\n",
    "    Book(1, \"ABCD\", \"Classics\", \"Manisha\"),\n",
    "    Book(2, \"EFGH\", \"Classics\", \"Swetha\"),\n",
    "    Book(3, \"IJKL\", \"Fantasy\", \"Sangeetha\"),\n",
    "    Book(4, \"MNOP\", \"Classics\", \"Indhu\"),\n",
    "    Book(5, \"QRST\", \"Classics\", \"Nithya\"),\n",
    "    Book(6, \"UVWX\", \"Dystopian\", \"Anna\"),\n",
    "    Book(7, \"The Hobbit\", \"Fantasy\", \"J.R.R. Tolkien\"),\n",
    "    Book(8, \"Harry Potter and the Sorcerer's Stone\", \"Fantasy\", \"J.K. Rowling\"),\n",
    "    Book(9, \"The Fellowship of the Ring\", \"Fantasy\", \"J.R.R. Tolkien\"),\n",
    "    Book(10, \"The Two Towers\", \"Fantasy\", \"J.R.R. Tolkien\")\n",
    "\n",
    "]\n",
    "\n",
    "# User history\n",
    "user = User(1, \"Bittu\")\n",
    "user.add_to_history(books[0])\n",
    "user.add_to_history(books[1])\n",
    "user.add_to_history(books[3])\n",
    "\n",
    "# Recommendation system\n",
    "recommender = RecommendationSystem(books)\n",
    "recommendations = recommender.recommend_books(user)\n",
    "\n",
    "# Output the recommendations\n",
    "print(\"Recommended Books:\")\n",
    "for book in recommendations:\n",
    "    print(f\"{book.title} by {book.author} ({book.genre})\")"
   ]
  },
  {
   "cell_type": "code",
   "execution_count": null,
   "metadata": {},
   "outputs": [],
   "source": [
    "\n",
    "My observations:-\n",
    "\n",
    "-Classes and Objects:\n",
    "\n",
    "1. 'Book'class represents a book with attributes like 'book_id', 'title', 'genre', and 'author'.\n",
    "2. 'User' class represents a user with a history of read books.\n",
    "3. 'RecommendationSystem' class encapsulates the recommendation logic.\n",
    "\n",
    "-Encapsulation:\n",
    "The 'Book', 'User', and 'RecommendationSystem' classes encapsulate data and methods related to books, users, and recommendations, respectively.\n",
    "\n",
    "-Abstraction:\n",
    "The 'recommend_books' method abstracts the recommendation logic.\n",
    "\n",
    "\n",
    "-Polymorphism:\n",
    "The 'recommend_books' method works with objects of the 'Book' class without knowing their internal details, as long as they provide the necessary attributes.\n",
    "\n",
    "\n"
   ]
  }
 ],
 "metadata": {
  "kernelspec": {
   "display_name": "Python 3",
   "language": "python",
   "name": "python3"
  },
  "language_info": {
   "codemirror_mode": {
    "name": "ipython",
    "version": 3
   },
   "file_extension": ".py",
   "mimetype": "text/x-python",
   "name": "python",
   "nbconvert_exporter": "python",
   "pygments_lexer": "ipython3",
   "version": "3.7.4"
  }
 },
 "nbformat": 4,
 "nbformat_minor": 2
}
