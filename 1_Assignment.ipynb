{
 "cells": [
  {
   "cell_type": "code",
   "execution_count": 25,
   "metadata": {},
   "outputs": [
    {
     "data": {
      "text/plain": [
       "5"
      ]
     },
     "execution_count": 25,
     "metadata": {},
     "output_type": "execute_result"
    }
   ],
   "source": [
    "break_value = 5     #Creating a variable name break will result in a syntax error because break is a reserved keyword. \n",
    "break_value        #so i named break as break_value1"
   ]
  },
  {
   "cell_type": "code",
   "execution_count": 23,
   "metadata": {},
   "outputs": [
    {
     "data": {
      "text/plain": [
       "28"
      ]
     },
     "execution_count": 23,
     "metadata": {},
     "output_type": "execute_result"
    }
   ],
   "source": [
    "\n",
    "birth_year=1996\n",
    "current_year=2024\n",
    "age = current_year - birth_year\n",
    "age"
   ]
  },
  {
   "cell_type": "code",
   "execution_count": 26,
   "metadata": {},
   "outputs": [
    {
     "name": "stdout",
     "output_type": "stream",
     "text": [
      "full_name is: manishamp\n",
      "full_name with spaces is: manisha m p\n"
     ]
    }
   ],
   "source": [
    "first_name=\"manisha\"\n",
    "middle_name=\"m\"\n",
    "last_name=\"p\"\n",
    "full_name1=first_name+middle_name+last_name\n",
    "full_name2=first_name + \" \" + middle_name + \" \" + last_name\n",
    "print(\"full_name is:\", full_name1)        # Print the result we use print statement otherwise only last statement will excute\n",
    "print(\"full_name with spaces is:\", full_name2)\n"
   ]
  },
  {
   "cell_type": "code",
   "execution_count": null,
   "metadata": {},
   "outputs": [],
   "source": [
    "_nation: Valid   #Variable names can start with an underscore.\n",
    "1record: Invalid #Variable names cannot start with a number.\n",
    "record1: Valid  #Variable names can contain numbers as long as they do not start with them.\n",
    "record._one: Valid  #Variable names can include underscores and dots within them.\n",
    "record-one: Invalid #Hyphens are not allowed in variable names.\n",
    "record ^one: Invalid #Variable names cannot contain spaces or special characters like ^.\n",
    "continue: Invalid  #continue is a reserved keyword in Python and cannot be used as a variable name.\n",
    "\n",
    "Valid variable names: _nation, record1, record._one\n",
    "Invalid variable names: 1record, record-one, record ^one, continue\n",
    "\n",
    "#to check keywords we use  help('keywords')"
   ]
  },
  {
   "cell_type": "code",
   "execution_count": 31,
   "metadata": {},
   "outputs": [
    {
     "name": "stdout",
     "output_type": "stream",
     "text": [
      "The total area of the football field is: 4489.599999999999 square meters\n"
     ]
    }
   ],
   "source": [
    "field_length = 92  # in meters\n",
    "field_width = 48.8  # in meters\n",
    "area = field_length * field_width\n",
    "print(\"The total area of the football field is:\", area, \"square meters\")"
   ]
  },
  {
   "cell_type": "code",
   "execution_count": 35,
   "metadata": {},
   "outputs": [
    {
     "name": "stdout",
     "output_type": "stream",
     "text": [
      "the total amount shopkeeper will give you back: 6.59 Rs/-\n"
     ]
    }
   ],
   "source": [
    "number_of_packets = 9\n",
    "cost_per_packet = 1.49\n",
    "total_amount = cost_per_packet * number_of_packets   \n",
    "amount_given = 20\n",
    "change_amount = amount_given - total_amount\n",
    "print(\"the total amount shopkeeper will give you back:\", change_amount, \"Rs/-\")"
   ]
  },
  {
   "cell_type": "code",
   "execution_count": 45,
   "metadata": {},
   "outputs": [
    {
     "name": "stdout",
     "output_type": "stream",
     "text": [
      "The total cost to replace all tiles is: 15125.0 Rs/-\n"
     ]
    }
   ],
   "source": [
    "square_side_length = 5.5  # in feet\n",
    "cost_per_square_foot = 500  # in rs\n",
    "area = square_side_length ** 2   #as area of square is side square   # Using the power operator to find the area of a square     \n",
    "total_cost = area * cost_per_square_foot  \n",
    "print(\"The total cost to replace all tiles is:\", total_cost, \"Rs/-\")"
   ]
  },
  {
   "cell_type": "code",
   "execution_count": 46,
   "metadata": {},
   "outputs": [
    {
     "name": "stdout",
     "output_type": "stream",
     "text": [
      "0b10001\n"
     ]
    }
   ],
   "source": [
    "number = 17\n",
    "binary_representation = bin(number)\n",
    "print(binary_representation)                           #bin(17)"
   ]
  },
  {
   "cell_type": "code",
   "execution_count": 47,
   "metadata": {},
   "outputs": [
    {
     "name": "stdout",
     "output_type": "stream",
     "text": [
      "10001\n"
     ]
    }
   ],
   "source": [
    "number = 17\n",
    "binary_representation = \"{0:b}\".format(number)   #You can use string formatting in Python to represent a number in binary format\n",
    "print(binary_representation)                        #Here, \"{0:b}\" is a format specifier that tells Python to represent the number in binary format."
   ]
  },
  {
   "cell_type": "code",
   "execution_count": 99,
   "metadata": {},
   "outputs": [
    {
     "name": "stdout",
     "output_type": "stream",
     "text": [
      "ticket_price=12.50\n"
     ]
    }
   ],
   "source": [
    "age = int(input(\"Please enter your age: \"))   \n",
    "if  age >= 65:\n",
    "        print(\"ticket_price=10.0\") \n",
    "elif age < 12:\n",
    "        print(\"ticket_price=8.00\")   \n",
    "else:\n",
    "        print(\"ticket_price=12.50\")  \n",
    "      "
   ]
  },
  {
   "cell_type": "code",
   "execution_count": 97,
   "metadata": {},
   "outputs": [
    {
     "name": "stdout",
     "output_type": "stream",
     "text": [
      "Shipping charges apply\n"
     ]
    }
   ],
   "source": [
    "total_amount = int(input(\"Please enter the total amount of your shopping cart: $\"))\n",
    "if total_amount >= 50:\n",
    "        print(\"Free shipping\")\n",
    "else:\n",
    "        print(\"Shipping charges apply\")\n",
    "       "
   ]
  },
  {
   "cell_type": "code",
   "execution_count": 85,
   "metadata": {},
   "outputs": [
    {
     "name": "stdout",
     "output_type": "stream",
     "text": [
      "not a leap year\n"
     ]
    }
   ],
   "source": [
    "year = int(input(\"Please enter a year: \"))\n",
    "if year%4==0 and year%100!=0 or year%400==0 :\n",
    "     print(\"it is a leap year\")\n",
    "else :\n",
    "        print(\"not a leap year\")"
   ]
  },
  {
   "cell_type": "code",
   "execution_count": 128,
   "metadata": {},
   "outputs": [
    {
     "name": "stdout",
     "output_type": "stream",
     "text": [
      "84.0 degree Fahrenhei is 28.88888888888889 to Celsius\n"
     ]
    }
   ],
   "source": [
    "temperature = float(input(\"enter the temperature value:\"))\n",
    "unit=(input(\"Please specify the unit value C or F\"))\n",
    "\n",
    "converted_temp = None\n",
    "\n",
    "if unit == 'C':\n",
    "    converted_temp = (temperature * 9/5) + 32\n",
    "    print(f\"{temperature} degree Celsius is {converted_temp} to Fahrenhei \")   # used{} to treat as a variable\n",
    "elif unit =='F':\n",
    "    converted_temp = (temperature - 32) * 5/9\n",
    "    print(f\"{temperature} degree Fahrenhei is {converted_temp} to Celsius\")\n",
    "\n",
    "else :\n",
    "\n",
    "    print(\"Temperature in invalid\")    "
   ]
  },
  {
   "cell_type": "code",
   "execution_count": null,
   "metadata": {},
   "outputs": [],
   "source": []
  }
 ],
 "metadata": {
  "kernelspec": {
   "display_name": "Python 3",
   "language": "python",
   "name": "python3"
  },
  "language_info": {
   "codemirror_mode": {
    "name": "ipython",
    "version": 3
   },
   "file_extension": ".py",
   "mimetype": "text/x-python",
   "name": "python",
   "nbconvert_exporter": "python",
   "pygments_lexer": "ipython3",
   "version": "3.7.4"
  }
 },
 "nbformat": 4,
 "nbformat_minor": 2
}
