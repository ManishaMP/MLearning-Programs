{
 "cells": [
  {
   "cell_type": "code",
   "execution_count": null,
   "metadata": {},
   "outputs": [],
   "source": [
    "oops concepts:-\n",
    "\n",
    "1. class and objects:\n",
    "\n"
   ]
  },
  {
   "cell_type": "code",
   "execution_count": 39,
   "metadata": {},
   "outputs": [
    {
     "name": "stdout",
     "output_type": "stream",
     "text": [
      "Student Name: Manisha, Roll Number: 1\n",
      "Total Marks: 325\n",
      "Average Score: 81.25\n"
     ]
    }
   ],
   "source": [
    "\n",
    "class Student:\n",
    "    def __init__(self, name, roll_number, marks):\n",
    "        self.name = name\n",
    "        self.roll_number = roll_number\n",
    "        self.marks = marks\n",
    "\n",
    "    def total_marks(self):\n",
    "        return sum(self.marks)\n",
    "\n",
    "    def average_score(self):\n",
    "        if len(self.marks) == 0:\n",
    "            return 0\n",
    "        return sum(self.marks) / len(self.marks)\n",
    "\n",
    "# Example \n",
    "student1 = Student(\"Manisha\", 1, [80, 70, 90, 85])\n",
    "print(f\"Student Name: {student1.name}, Roll Number: {student1.roll_number}\")\n",
    "print(f\"Total Marks: {student1.total_marks()}\")\n",
    "print(f\"Average Score: {student1.average_score():.2f}\")\n",
    "  "
   ]
  },
  {
   "cell_type": "code",
   "execution_count": 35,
   "metadata": {},
   "outputs": [
    {
     "name": "stdout",
     "output_type": "stream",
     "text": [
      "Rectangle Length: 5, Width: 3\n",
      "Area: 15\n",
      "Perimeter: 16\n"
     ]
    }
   ],
   "source": [
    "\n",
    "2. Create a class Rectangle with attributes for width and height. Implement methods to calculate the area and perimeter.\n",
    "\n",
    "\n",
    "class Rectangle:\n",
    "    def _init_(self, length, width):\n",
    "        self.length=length\n",
    "        self.width=width\n",
    "    def cal_area(self):\n",
    "        return self.length * self.width\n",
    "    \n",
    "    def cal_perimeter(self):\n",
    "        return 2 * (self.length + self.width)\n",
    "\n",
    "    #example\n",
    "    rectangle1 = Rectangle(5, 3)\n",
    "    print(f\"Rectangle Length: {rectangle1.length}, Width: {rectangle1.width}\")\n",
    "    print(f\"Area: {rectangle1.cal_area()}\")\n",
    "    print(f\"Perimeter: {rectangle1.cal_perimeter()}\")"
   ]
  },
  {
   "cell_type": "code",
   "execution_count": 9,
   "metadata": {},
   "outputs": [
    {
     "ename": "SyntaxError",
     "evalue": "invalid syntax (1104918445.py, line 1)",
     "output_type": "error",
     "traceback": [
      "\u001b[1;36m  File \u001b[1;32m\"C:\\Users\\BITTU\\AppData\\Local\\Temp\\ipykernel_15200\\1104918445.py\"\u001b[1;36m, line \u001b[1;32m1\u001b[0m\n\u001b[1;33m    Define a class Employee with attributes like name, salary, and department. Include methods to apply a raise and display employee information.\u001b[0m\n\u001b[1;37m           ^\u001b[0m\n\u001b[1;31mSyntaxError\u001b[0m\u001b[1;31m:\u001b[0m invalid syntax\n"
     ]
    }
   ],
   "source": [
    "\n",
    "Define a class Employee with attributes like name, salary, and department. Include methods to apply a raise and display employee information.\n",
    "\n",
    "class Employee:\n",
    "  def __init__(self, name, salary, department):\n",
    "    self.name = name\n",
    "    self.salary = salary\n",
    "    self.department = department\n",
    "\n",
    "  def apply_raise(self, raise_amount):\n",
    "    self.salary += raise_amount\n",
    "\n",
    "  def display_info(self):\n",
    "    print(f\"Employee Name: {self.name}\")  # Prints the employee's information to the console.\n",
    "    print(f\"Salary: ${self.salary:.2f}\")  # Format salary to 2 decimal places\n",
    "    print(f\"Department: {self.department}\")\n",
    "    print(\"-\" * 20)  # Print a separator line\n",
    "\n",
    "# Example usage\n",
    "emp1 = Employee(\"manisha\", 50000.00, \"Engineering\")\n",
    "emp1.display_info()\n",
    "emp1.apply_raise(2500.00)\n",
    "emp1.display_info()\n"
   ]
  },
  {
   "cell_type": "markdown",
   "metadata": {},
   "source": [
    "Inheritance:-"
   ]
  },
  {
   "cell_type": "code",
   "execution_count": 6,
   "metadata": {},
   "outputs": [
    {
     "name": "stdout",
     "output_type": "stream",
     "text": [
      "Generic animal sound\n",
      "Woof!\n",
      "Meow!\n"
     ]
    }
   ],
   "source": [
    "\n",
    "Create a base class Animal with attributes like name and type (e.g., mammal, bird). Define a method make_sound_that prints a generic sound. Derive subclasses Dog and Cat from Animal and override the make_sound method to provide specific sounds.\n",
    "\n",
    "class Animal:\n",
    "  \"\"\"\n",
    "  A base class representing an animal with a name and type.\n",
    "  \"\"\"\n",
    "  def __init__(self, name, animal_type):\n",
    "    \"\"\"\n",
    "    Initializes an Animal object with the given name and type.\n",
    "\n",
    "    Args:\n",
    "      name: The animal's name (string).\n",
    "      animal_type: The animal's type (e.g., mammal, bird) (string).\n",
    "    \"\"\"\n",
    "    self.name = name\n",
    "    self.animal_type = animal_type\n",
    "\n",
    "  def make_sound(self):\n",
    "    \"\"\"\n",
    "    Prints a generic animal sound. \n",
    "    \"\"\"\n",
    "    print(\"Generic animal sound\")\n",
    "\n",
    "class Dog(Animal):\n",
    "  \"\"\"\n",
    "  A subclass of Animal representing a dog.\n",
    "  \"\"\"\n",
    "  def __init__(self, name):\n",
    "    \"\"\"\n",
    "    Initializes a Dog object with the given name and sets type to \"mammal\".\n",
    "\n",
    "    Args:\n",
    "      name: The dog's name (string).\n",
    "    \"\"\"\n",
    "    super().__init__(name, \"mammal\")  # Call parent class constructor\n",
    "\n",
    "  def make_sound(self):\n",
    "    \"\"\"\n",
    "    Overrides the base class method to print a dog sound.\n",
    "    \"\"\"\n",
    "    print(\"Woof!\")\n",
    "\n",
    "class Cat(Animal):\n",
    "  \"\"\"\n",
    "  A subclass of Animal representing a cat.\n",
    "  \"\"\"\n",
    "  def __init__(self, name):\n",
    "    \"\"\"\n",
    "    Initializes a Cat object with the given name and sets type to \"mammal\".\n",
    "\n",
    "    Args:\n",
    "      name: The cat's name (string).\n",
    "    \"\"\"\n",
    "    super().__init__(name, \"mammal\")  # Call parent class constructor\n",
    "\n",
    "  def make_sound(self):\n",
    "    \"\"\"\n",
    "    Overrides the base class method to print a cat sound.\n",
    "    \"\"\"\n",
    "    print(\"Meow!\")\n",
    "\n",
    "# Example usage\n",
    "animal1 = Animal(\"Leo\", \"lion\")  # Can create Animal objects but make_sound is generic\n",
    "animal1.make_sound()\n",
    "\n",
    "fido = Dog(\"Fido\")\n",
    "fido.make_sound()\n",
    "\n",
    "mittens = Cat(\"Mittens\")\n",
    "mittens.make_sound()"
   ]
  },
  {
   "cell_type": "code",
   "execution_count": null,
   "metadata": {},
   "outputs": [],
   "source": []
  }
 ],
 "metadata": {
  "kernelspec": {
   "display_name": "Python 3",
   "language": "python",
   "name": "python3"
  },
  "language_info": {
   "codemirror_mode": {
    "name": "ipython",
    "version": 3
   },
   "file_extension": ".py",
   "mimetype": "text/x-python",
   "name": "python",
   "nbconvert_exporter": "python",
   "pygments_lexer": "ipython3",
   "version": "3.7.4"
  }
 },
 "nbformat": 4,
 "nbformat_minor": 2
}
