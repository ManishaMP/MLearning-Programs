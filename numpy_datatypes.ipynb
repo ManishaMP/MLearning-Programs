{
 "cells": [
  {
   "cell_type": "code",
   "execution_count": null,
   "metadata": {},
   "outputs": [],
   "source": [
    "Datatypes In Numpy:\n",
    "\n",
    "In NumPy, data types (dtypes) are an essential concept that defines how data is stored in arrays and how it is interpreted during operations. NumPy provides a wide range of data types, which are more precise and optimized for numerical computations compared to Python's built-in data types. Here's an overview of the most commonly used data types in NumPy:\n",
    "\n",
    "Integer Types:-\n",
    "np.int8: 8-bit signed integer (-128 to 127)\n",
    "\n",
    "np.int16: 16-bit signed integer (-32768 to 32767)\n",
    "\n",
    "np.int32: 32-bit signed integer (-2147483648 to 2147483647)\n",
    "\n",
    "np.int64: 64-bit signed integer (-9223372036854775808 to 9223372036854775807)\n",
    "\n",
    "np.uint8: 8-bit unsigned integer (0 to 255)\n",
    "\n",
    "np.uint16: 16-bit unsigned integer (0 to 65535)\n",
    "\n",
    "np.uint32: 32-bit unsigned integer (0 to 4294967295)\n",
    "\n",
    "np.uint64: 64-bit unsigned integer (0 to 18446744073709551615)\n",
    "\n",
    "Floating Point Types:-\n",
    "np.float16: Half precision float: sign bit, 5 bits exponent, 10 bits mantissa\n",
    "np.float32: Single precision float: sign bit, 8 bits exponent, 23 bits mantissa\n",
    "np.float64: Double precision float: sign bit, 11 bits exponent, 52 bits mantissa\n",
    "\n",
    "Complex Types:-\n",
    "np.complex64: Complex number represented by two 32-bit floats (real and imaginary parts)\n",
    "np.complex128: Complex number represented by two 64-bit floats (real and imaginary parts)\n",
    "\n",
    "Boolean Type:-\n",
    "np.bool_: Boolean type storing True and False values.\n",
    "\n",
    "Object Type:-\n",
    "np.object_: Python object type, allowing any Python object to be stored in an array.\n",
    "\n",
    "String Types:-\n",
    "np.str_: Fixed-length ASCII string type.\n",
    "np.unicode_: Fixed-length Unicode string type.\n",
    "\n",
    "Other Special Types:-\n",
    "np.void: Void type used for structured arrays.\n",
    "np.datetime64: Date and time type.\n",
    "\n"
   ]
  },
  {
   "cell_type": "code",
   "execution_count": 1,
   "metadata": {},
   "outputs": [],
   "source": [
    "#Specifying and Checking Data Types:-\n",
    "#You can specify the data type when creating a NumPy array using the dtype parameter:\n",
    "\n",
    "import numpy as np\n",
    "\n",
    "# Creating arrays with specific data types\n",
    "arr_int32 = np.array([1, 2, 3], dtype=np.int32)\n",
    "arr_float64 = np.array([1.0, 2.5, 3.7], dtype=np.float64)\n",
    "arr_complex = np.array([1 + 2j, 3 - 4j], dtype=np.complex128)\n",
    "arr_bool = np.array([True, False, True], dtype=np.bool_)"
   ]
  },
  {
   "cell_type": "code",
   "execution_count": 3,
   "metadata": {},
   "outputs": [
    {
     "name": "stdout",
     "output_type": "stream",
     "text": [
      "int32\n",
      "float64\n"
     ]
    }
   ],
   "source": [
    "\n",
    "# check the data type of a NumPy array using the .dtype attribute:\n",
    "\n",
    "import numpy as np\n",
    "\n",
    "arr = np.array([1, 2, 3])\n",
    "print(arr.dtype)  # Output: int64\n",
    "\n",
    "arr_float = np.array([1.0, 2.5, 3.7])\n",
    "print(arr_float.dtype)  # Output: float64\n",
    "\n"
   ]
  },
  {
   "cell_type": "code",
   "execution_count": 4,
   "metadata": {},
   "outputs": [
    {
     "name": "stdout",
     "output_type": "stream",
     "text": [
      "float64\n"
     ]
    }
   ],
   "source": [
    "# Converting Data Types\n",
    "#NumPy arrays can be converted to different data types using the ''.astype()'' method:\n",
    "\n",
    "arr = np.array([1, 2, 3])\n",
    "arr_float = arr.astype(np.float64)\n",
    "print(arr_float.dtype)  # Output: float64\n"
   ]
  },
  {
   "cell_type": "code",
   "execution_count": null,
   "metadata": {},
   "outputs": [],
   "source": []
  }
 ],
 "metadata": {
  "kernelspec": {
   "display_name": "Python 3",
   "language": "python",
   "name": "python3"
  },
  "language_info": {
   "codemirror_mode": {
    "name": "ipython",
    "version": 3
   },
   "file_extension": ".py",
   "mimetype": "text/x-python",
   "name": "python",
   "nbconvert_exporter": "python",
   "pygments_lexer": "ipython3",
   "version": "3.7.4"
  }
 },
 "nbformat": 4,
 "nbformat_minor": 2
}
